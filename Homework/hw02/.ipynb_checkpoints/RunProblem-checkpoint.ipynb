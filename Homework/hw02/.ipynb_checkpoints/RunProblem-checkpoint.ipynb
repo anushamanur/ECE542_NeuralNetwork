{
 "cells": [
  {
   "cell_type": "code",
   "execution_count": 38,
   "metadata": {},
   "outputs": [],
   "source": [
    "import numpy as np\n",
    "import matplotlib.pyplot as plt\n",
    "import pandas as pd\n",
    "\n",
    "# Function that creates the X matrix as defined for fitting our model\n",
    "def create_X(x,deg):\n",
    "    X = np.ones((len(x),deg+1))\n",
    "    for i in range(1,deg+1):\n",
    "        X[:,i] = x**i\n",
    "    \n",
    "    return X\n",
    "\n",
    "# Function for predicting the response\n",
    "def predict_y(x,beta):\n",
    "    return np.dot(create_X(x,len(beta)-1),beta)\n",
    "\n",
    "# Function for fitting the model\n",
    "def fit_beta(df,deg):\n",
    "    return np.linalg.lstsq(create_X(df.x,deg),df.y,rcond=None)[0]\n",
    "\n",
    "# Function for computing the MSE\n",
    "def mse(y,yPred):\n",
    "    return np.mean((y-yPred)**2)\n",
    "\n",
    "# Loading training, validation and test data\n",
    "dfTrain = pandas.read_csv('Data_Train.csv')\n",
    "dfVal = pandas.read_csv('Data_Val.csv')\n",
    "dfTest = pandas.read_csv('Data_Test.csv')\n",
    "\n",
    "############ TRAINING A MODEL\n",
    "\n",
    "# Fitting model\n",
    "deg = 1\n",
    "X = create_X(dfTrain.x,deg)\n",
    "beta = fit_beta(dfTrain,deg)\n",
    "\n",
    "\n",
    "# Computing training error\n",
    "yPredTrain = predict_y(dfTrain.x,beta)\n",
    "err = mse(dfTrain.y,yPredTrain)\n",
    "#print('Training Error = {:2.3}'.format(err))\n",
    "\n",
    "# Computing test error\n",
    "yPredTest = predict_y(dfTest.x,beta)\n",
    "err = mse(dfTest.y,yPredTest)\n",
    "#print('Test Error = {:2.3}'.format(err))"
   ]
  },
  {
   "cell_type": "code",
   "execution_count": 39,
   "metadata": {},
   "outputs": [
    {
     "data": {
      "image/png": "[encoded data removed]",
      "text/plain": [
       "<Figure size 432x288 with 1 Axes>"
      ]
     },
     "metadata": {
      "needs_background": "light"
     },
     "output_type": "display_data"
    }
   ],
   "source": [
    "############ PLOTTING FITTED MODEL\n",
    "x = np.linspace(0,1,100)\n",
    "y = predict_y(x,beta)\n",
    "\n",
    "plt.plot(x,y,'b-',dfTrain.x,dfTrain.y,'r.')\n",
    "plt.show()"
   ]
  },
  {
   "cell_type": "code",
   "execution_count": 40,
   "metadata": {},
   "outputs": [
    {
     "name": "stdout",
     "output_type": "stream",
     "text": [
      "Length of beta:  2\n",
      "Training Error = 0.0258\n",
      "Val Error = 0.0159\n",
      "\n",
      "Length of beta:  3\n",
      "Training Error = 0.0188\n",
      "Val Error = 0.0133\n",
      "\n",
      "Length of beta:  4\n",
      "Training Error = 0.00967\n",
      "Val Error = 0.00709\n",
      "\n",
      "Length of beta:  5\n",
      "Training Error = 0.00929\n",
      "Val Error = 0.00707\n",
      "\n",
      "Length of beta:  6\n",
      "Training Error = 0.00902\n",
      "Val Error = 0.00697\n",
      "\n",
      "Length of beta:  7\n",
      "Training Error = 0.00874\n",
      "Val Error = 0.00642\n",
      "\n",
      "Length of beta:  8\n",
      "Training Error = 0.00873\n",
      "Val Error = 0.00584\n",
      "\n",
      "Length of beta:  9\n",
      "Training Error = 0.00873\n",
      "Val Error = 0.00565\n",
      "\n",
      "Length of beta:  10\n",
      "Training Error = 0.00823\n",
      "Val Error = 0.00539\n",
      "\n",
      "Length of beta:  11\n",
      "Training Error = 0.00673\n",
      "Val Error = 0.00538\n",
      "\n"
     ]
    },
    {
     "data": {
      "image/png": "[encoded data removed]",
      "text/plain": [
       "<Figure size 432x288 with 1 Axes>"
      ]
     },
     "metadata": {
      "needs_background": "light"
     },
     "output_type": "display_data"
    }
   ],
   "source": [
    "############ HYPER-PARAMETER TUNING\n",
    "\n",
    "# Initializing range of degree values to be tested and errors\n",
    "degRange = list(range(1,11))\n",
    "errTrain = np.zeros(len(degRange))\n",
    "errVal = np.zeros(len(degRange))\n",
    "\n",
    "# Computing error as a function of degree\n",
    "# ...\n",
    "for i,degree in enumerate(degRange):\n",
    "    beta = fit_beta(dfTrain,degree)\n",
    "    print (\"Length of beta: \", len(beta))\n",
    "\n",
    "    # Computing training error\n",
    "    yPredTrain = predict_y(dfTrain.x,beta)\n",
    "    err_train = mse(dfTrain.y,yPredTrain)\n",
    "    print('Training Error = {:2.3}'.format(err_train))\n",
    "    errTrain[i]=err_train\n",
    "    \n",
    "    beta = fit_beta(dfVal,degree)\n",
    "    # Computing val error\n",
    "    yPredVal = predict_y(dfVal.x,beta)\n",
    "    err_val = mse(dfVal.y,yPredVal)\n",
    "    print('Val Error = {:2.3}'.format(err_val))\n",
    "    errVal[i]=err_val\n",
    "    print ()\n",
    "# Plotting training and validation errors\n",
    "plt.plot(degRange,errTrain,'b-',degRange,errVal,'r-')\n",
    "plt.legend(('Training Error','Val Error'))\n",
    "plt.show()"
   ]
  },
  {
   "cell_type": "code",
   "execution_count": 63,
   "metadata": {},
   "outputs": [
    {
     "name": "stdout",
     "output_type": "stream",
     "text": [
      "Training Error = 0.00864\n",
      "Test Error = 0.011\n"
     ]
    }
   ],
   "source": [
    "############ TRAINING SELECTED MODEL\n",
    "\n",
    "# Concatenating data training and validation data frames\n",
    "df =  pd.concat([dfTrain, dfVal], ignore_index=True)\n",
    "\n",
    "# Fit model using the optimal degree found in the previous cell\n",
    "degOpt = 4\n",
    "\n",
    "# Compute and print training and test errors\n",
    "beta = fit_beta(df,degOpt)\n",
    "\n",
    "# Computing training error\n",
    "yPred = predict_y(df.x,beta)\n",
    "err = mse(df.y,yPred)\n",
    "print('Training Error = {:2.3}'.format(err))\n",
    "\n",
    "# Computing test error\n",
    "yPredTest = predict_y(dfTest.x,beta)\n",
    "err = mse(dfTest.y,yPredTest)\n",
    "print('Test Error = {:2.3}'.format(err))"
   ]
  },
  {
   "cell_type": "code",
   "execution_count": 65,
   "metadata": {},
   "outputs": [
    {
     "data": {
      "image/png": "[encoded data removed]",
      "text/plain": [
       "<Figure size 432x288 with 1 Axes>"
      ]
     },
     "metadata": {
      "needs_background": "light"
     },
     "output_type": "display_data"
    }
   ],
   "source": [
    "############ PLOTTING FITTED MODEL\n",
    "# Plot the fitted model as in the second cell\n",
    "x = np.linspace(0,1,100)\n",
    "y = predict_y(x,beta)\n",
    "\n",
    "plt.plot(x,y,'b-',dfTest.x,dfTest.y,'r.')\n",
    "plt.show()"
   ]
  }
 ],
 "metadata": {
  "kernelspec": {
   "display_name": "Python 3",
   "language": "python",
   "name": "python3"
  },
  "language_info": {
   "codemirror_mode": {
    "name": "ipython",
    "version": 3
   },
   "file_extension": ".py",
   "mimetype": "text/x-python",
   "name": "python",
   "nbconvert_exporter": "python",
   "pygments_lexer": "ipython3",
   "version": "3.5.2"
  }
 },
 "nbformat": 4,
 "nbformat_minor": 2
}
