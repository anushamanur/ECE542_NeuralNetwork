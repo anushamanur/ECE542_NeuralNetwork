{
 "cells": [
  {
   "cell_type": "code",
   "execution_count": 1,
   "metadata": {},
   "outputs": [
    {
     "name": "stdout",
     "output_type": "stream",
     "text": [
      "Training Error = 0.0258\n",
      "Test Error = 0.0154\n"
     ]
    }
   ],
   "source": [
    "#Anusha Gururaja Manur\n",
    "#unity id :  amanur\n",
    "\n",
    "import numpy as np\n",
    "import matplotlib.pyplot as plt\n",
    "import pandas as pd\n",
    "\n",
    "# Function that creates the X matrix as defined for fitting our model\n",
    "def create_X(x,deg):\n",
    "    X = np.ones((len(x),deg+1))\n",
    "    for i in range(1,deg+1):\n",
    "        X[:,i] = x**i\n",
    "    \n",
    "    return X\n",
    "\n",
    "# Function for predicting the response\n",
    "def predict_y(x,beta):\n",
    "    return np.dot(create_X(x,len(beta)-1),beta)\n",
    "\n",
    "# Function for fitting the model\n",
    "def fit_beta(df,deg):\n",
    "    return np.linalg.lstsq(create_X(df.x,deg),df.y,rcond=None)[0]\n",
    "\n",
    "# Function for computing the MSE\n",
    "def mse(y,yPred):\n",
    "    return np.mean((y-yPred)**2)\n",
    "\n",
    "# Loading training, validation and test data\n",
    "dfTrain = pd.read_csv('Data_Train.csv')\n",
    "dfVal = pd.read_csv('Data_Val.csv')\n",
    "dfTest = pd.read_csv('Data_Test.csv')\n",
    "\n",
    "############ TRAINING A MODEL\n",
    "\n",
    "# Fitting model\n",
    "deg = 1\n",
    "X = create_X(dfTrain.x,deg)\n",
    "beta = fit_beta(dfTrain,deg)\n",
    "\n",
    "\n",
    "# Computing training error\n",
    "yPredTrain = predict_y(dfTrain.x,beta)\n",
    "err = mse(dfTrain.y,yPredTrain)\n",
    "print('Training Error = {:2.3}'.format(err))\n",
    "\n",
    "# Computing test error\n",
    "yPredTest = predict_y(dfTest.x,beta)\n",
    "err = mse(dfTest.y,yPredTest)\n",
    "print('Test Error = {:2.3}'.format(err))"
   ]
  },
  {
   "cell_type": "code",
   "execution_count": 2,
   "metadata": {},
   "outputs": [
    {
     "data": {
      "image/png": "[encoded data removed]",
      "text/plain": [
       "<Figure size 432x288 with 1 Axes>"
      ]
     },
     "metadata": {
      "needs_background": "light"
     },
     "output_type": "display_data"
    }
   ],
   "source": [
    "############ PLOTTING FITTED MODEL\n",
    "x = np.linspace(0,1,100)\n",
    "y = predict_y(x,beta)\n",
    "\n",
    "plt.plot(x,y,'b-',dfTrain.x,dfTrain.y,'r.')\n",
    "plt.show()"
   ]
  },
  {
   "cell_type": "code",
   "execution_count": 3,
   "metadata": {},
   "outputs": [
    {
     "name": "stdout",
     "output_type": "stream",
     "text": [
      "Degree:  1\n",
      "Training Error = 0.0258\n",
      "Validation Error = 0.0249\n",
      "\n",
      "Degree:  2\n",
      "Training Error = 0.0188\n",
      "Validation Error = 0.0186\n",
      "\n",
      "Degree:  3\n",
      "Training Error = 0.00967\n",
      "Validation Error = 0.00843\n",
      "\n",
      "Degree:  4\n",
      "Training Error = 0.00929\n",
      "Validation Error = 0.00934\n",
      "\n",
      "Degree:  5\n",
      "Training Error = 0.00902\n",
      "Validation Error = 0.0109\n",
      "\n",
      "Degree:  6\n",
      "Training Error = 0.00874\n",
      "Validation Error = 0.0108\n",
      "\n",
      "Degree:  7\n",
      "Training Error = 0.00873\n",
      "Validation Error = 0.0109\n",
      "\n",
      "Degree:  8\n",
      "Training Error = 0.00873\n",
      "Validation Error = 0.0111\n",
      "\n",
      "Degree:  9\n",
      "Training Error = 0.00823\n",
      "Validation Error = 0.0152\n",
      "\n",
      "Degree:  10\n",
      "Training Error = 0.00673\n",
      "Validation Error = 0.0392\n",
      "\n"
     ]
    },
    {
     "data": {
      "image/png": "[encoded data removed]",
      "text/plain": [
       "<Figure size 432x288 with 1 Axes>"
      ]
     },
     "metadata": {
      "needs_background": "light"
     },
     "output_type": "display_data"
    }
   ],
   "source": [
    "############ HYPER-PARAMETER TUNING\n",
    "\n",
    "# Initializing range of degree values to be tested and errors\n",
    "degRange = list(range(1,11))\n",
    "errTrain = np.zeros(len(degRange))\n",
    "errVal = np.zeros(len(degRange))\n",
    "\n",
    "# Computing error as a function of degree\n",
    "# ...\n",
    "for i,degree in enumerate(degRange):\n",
    "    beta = fit_beta(dfTrain,degree)\n",
    "    print (\"Degree: \", degree)\n",
    "\n",
    "    # Computing training error\n",
    "    \n",
    "    yPredTrain = predict_y(dfTrain.x,beta)\n",
    "    err_train = mse(dfTrain.y,yPredTrain)\n",
    "    print('Training Error = {:2.3}'.format(err_train))\n",
    "    errTrain[i]=err_train\n",
    "    \n",
    "    #beta = fit_beta(dfVal,degree)\n",
    "    # Computing val error\n",
    "    yPredVal = predict_y(dfVal.x,beta)\n",
    "    err_val = mse(dfVal.y,yPredVal)\n",
    "    print('Validation Error = {:2.3}'.format(err_val))\n",
    "    errVal[i]=err_val\n",
    "    print ()\n",
    "    \n",
    "# Plotting training and validation errors\n",
    "plt.plot(degRange,errTrain,'b-',degRange,errVal,'r-')\n",
    "plt.legend(('Training Error','Validation Error'))\n",
    "plt.savefig('error.png')\n",
    "plt.show()\n",
    "plt.close()"
   ]
  },
  {
   "cell_type": "code",
   "execution_count": 5,
   "metadata": {},
   "outputs": [
    {
     "name": "stdout",
     "output_type": "stream",
     "text": [
      "Training Error = 0.0087\n",
      "Testing Error = 0.0108\n"
     ]
    }
   ],
   "source": [
    "############ TRAINING SELECTED MODEL\n",
    "\n",
    "# Concatenating data training and validation data frames\n",
    "df =  pd.concat([dfTrain, dfVal], ignore_index=True)\n",
    "\n",
    "# Fit model using the optimal degree found in the previous cell\n",
    "\n",
    "#Optimal degree is 3 as this is where the validation error starts increasing \n",
    "degOpt = 3\n",
    "\n",
    "# Compute and print training and test errors\n",
    "beta = fit_beta(df,degOpt)\n",
    "\n",
    "# Computing training error\n",
    "yPred = predict_y(df.x,beta)\n",
    "err = mse(df.y,yPred)\n",
    "print('Training Error = {:2.3}'.format(err))\n",
    "\n",
    "# Computing test error\n",
    "yPredTest = predict_y(dfTest.x,beta)\n",
    "err = mse(dfTest.y,yPredTest)\n",
    "print('Testing Error = {:2.3}'.format(err))"
   ]
  },
  {
   "cell_type": "code",
   "execution_count": 6,
   "metadata": {},
   "outputs": [
    {
     "data": {
      "image/png": "[encoded data removed]",
      "text/plain": [
       "<Figure size 432x288 with 1 Axes>"
      ]
     },
     "metadata": {
      "needs_background": "light"
     },
     "output_type": "display_data"
    }
   ],
   "source": [
    "############ PLOTTING FITTED MODEL\n",
    "# Plot the fitted model as in the second cell\n",
    "x = np.linspace(0,1,100)\n",
    "y = predict_y(x,beta)\n",
    "\n",
    "plt.plot(x,y,'b-',df.x,df.y,'r.')\n",
    "\n",
    "plt.savefig('deg3.png')\n",
    "plt.show()\n",
    "plt.close()"
   ]
  },
  {
   "cell_type": "code",
   "execution_count": null,
   "metadata": {},
   "outputs": [],
   "source": []
  }
 ],
 "metadata": {
  "kernelspec": {
   "display_name": "Python 3",
   "language": "python",
   "name": "python3"
  },
  "language_info": {
   "codemirror_mode": {
    "name": "ipython",
    "version": 3
   },
   "file_extension": ".py",
   "mimetype": "text/x-python",
   "name": "python",
   "nbconvert_exporter": "python",
   "pygments_lexer": "ipython3",
   "version": "3.5.2"
  }
 },
 "nbformat": 4,
 "nbformat_minor": 2
}
