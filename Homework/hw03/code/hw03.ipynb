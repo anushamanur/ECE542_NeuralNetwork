{
 "cells": [
  {
   "cell_type": "code",
   "execution_count": 2,
   "metadata": {},
   "outputs": [
    {
     "name": "stdout",
     "output_type": "stream",
     "text": [
      "(60000, 28, 28)\n",
      "(10000, 28, 28)\n",
      "<class 'numpy.ndarray'>\n"
     ]
    }
   ],
   "source": [
    "#load file and appropriate preprocessing\n",
    "\n",
    "import struct as st\n",
    "import numpy as np\n",
    "import matplotlib.pyplot as plt\n",
    "filename = {'images' : 'train-images.idx3-ubyte' ,'labels' : 'train-labels.idx1-ubyte'}\n",
    "train_imagesfile = open(filename['images'],'rb')\n",
    "\n",
    "train_imagesfile.seek(0)\n",
    "magic = st.unpack('>4B',train_imagesfile.read(4))\n",
    "\n",
    "nImg = st.unpack('>I',train_imagesfile.read(4))[0] #num of images\n",
    "nR = st.unpack('>I',train_imagesfile.read(4))[0] #num of rows\n",
    "nC = st.unpack('>I',train_imagesfile.read(4))[0] #num of column\n",
    "\n",
    "\n",
    "train_data = np.zeros((nImg,nR,nC))\n",
    "\n",
    "nBytesTotal = nImg*nR*nC*1 #since each pixel data is 1 byte\n",
    "train_data = 255 - np.asarray(st.unpack('>'+'B'*nBytesTotal,train_imagesfile.read(nBytesTotal))).reshape((nImg,nR,nC))\n",
    "print (train_data.shape)\n",
    "\n",
    "\n",
    "filename = {'images' : 't10k-images.idx3-ubyte' ,'labels' : 't10k-labels.idx1-ubyte'}\n",
    "test_imagesfile = open(filename['images'],'rb')\n",
    "\n",
    "test_imagesfile.seek(0)\n",
    "magic = st.unpack('>4B',test_imagesfile.read(4))\n",
    "\n",
    "nImg = st.unpack('>I',test_imagesfile.read(4))[0] #num of images\n",
    "nR = st.unpack('>I',test_imagesfile.read(4))[0] #num of rows\n",
    "nC = st.unpack('>I',test_imagesfile.read(4))[0] #num of column\n",
    "\n",
    "\n",
    "test_data = np.zeros((nImg,nR,nC))\n",
    "\n",
    "nBytesTotal = nImg*nR*nC*1 #since each pixel data is 1 byte\n",
    "test_data = 255 - np.asarray(st.unpack('>'+'B'*nBytesTotal,test_imagesfile.read(nBytesTotal))).reshape((nImg,nR,nC))\n",
    "print (test_data.shape)\n",
    "\n",
    "print (type(test_data))"
   ]
  },
  {
   "cell_type": "code",
   "execution_count": 3,
   "metadata": {},
   "outputs": [],
   "source": [
    "#Load labels\n",
    "intType = np.dtype( 'int32' ).newbyteorder( '>' )\n",
    "nMetaDataBytes = 4 * intType.itemsize\n",
    "\n",
    "train_labels = np.fromfile( 'train-labels.idx1-ubyte',dtype = 'ubyte' )[2 * intType.itemsize:]\n",
    "test_labels = np.fromfile( 't10k-labels.idx1-ubyte',dtype = 'ubyte' )[2 * intType.itemsize:]\n"
   ]
  },
  {
   "cell_type": "code",
   "execution_count": 8,
   "metadata": {},
   "outputs": [
    {
     "data": {
      "image/png": "[encoded data removed]",
      "text/plain": [
       "<Figure size 432x288 with 1 Axes>"
      ]
     },
     "metadata": {
      "needs_background": "light"
     },
     "output_type": "display_data"
    }
   ],
   "source": [
    "plt.imshow(test_data[1])\n",
    "plt.show()"
   ]
  },
  {
   "cell_type": "code",
   "execution_count": 5,
   "metadata": {},
   "outputs": [],
   "source": [
    "#reshape data\n",
    "nsamples, nx, ny = train_data.shape\n",
    "train_dataset = train_data.reshape((nsamples,nx*ny))\n",
    "nsamples, nx, ny = test_data.shape\n",
    "test_dataset = test_data.reshape((nsamples,nx*ny))\n"
   ]
  },
  {
   "cell_type": "code",
   "execution_count": 6,
   "metadata": {},
   "outputs": [
    {
     "name": "stderr",
     "output_type": "stream",
     "text": [
      "/home/anusha/.local/lib/python3.5/site-packages/sklearn/linear_model/logistic.py:758: ConvergenceWarning: lbfgs failed to converge. Increase the number of iterations.\n",
      "  \"of iterations.\", ConvergenceWarning)\n"
     ]
    }
   ],
   "source": [
    "#Apply LR\n",
    "from sklearn.linear_model import LogisticRegression\n",
    "clf = LogisticRegression(random_state=0, solver='lbfgs',max_iter=300, multi_class='auto').fit(train_dataset, train_labels)\n"
   ]
  },
  {
   "cell_type": "code",
   "execution_count": 7,
   "metadata": {},
   "outputs": [
    {
     "name": "stdout",
     "output_type": "stream",
     "text": [
      "0.9266\n"
     ]
    }
   ],
   "source": [
    "#predict and store in file\n",
    "pred=clf.predict(test_dataset)\n",
    "\n",
    "p=np.eye(10)[pred]\n",
    "p=p.astype(int)\n",
    "np.savetxt(\"lr.csv\", p, fmt='%i',delimiter=\",\")\n",
    "\n",
    "score = clf.score(test_dataset, test_labels)\n",
    "print(score)"
   ]
  },
  {
   "cell_type": "code",
   "execution_count": 8,
   "metadata": {},
   "outputs": [
    {
     "data": {
      "text/plain": [
       "RandomForestClassifier(bootstrap=True, class_weight=None, criterion='gini',\n",
       "            max_depth=None, max_features='auto', max_leaf_nodes=None,\n",
       "            min_impurity_decrease=0.0, min_impurity_split=None,\n",
       "            min_samples_leaf=1, min_samples_split=2,\n",
       "            min_weight_fraction_leaf=0.0, n_estimators=400, n_jobs=None,\n",
       "            oob_score=False, random_state=None, verbose=0,\n",
       "            warm_start=False)"
      ]
     },
     "execution_count": 8,
     "metadata": {},
     "output_type": "execute_result"
    }
   ],
   "source": [
    "#apply RF\n",
    "from sklearn.ensemble import RandomForestClassifier\n",
    "\n",
    "rf = RandomForestClassifier(n_estimators= 400)\n",
    "rf.fit(train_dataset, train_labels)"
   ]
  },
  {
   "cell_type": "code",
   "execution_count": 9,
   "metadata": {},
   "outputs": [
    {
     "name": "stdout",
     "output_type": "stream",
     "text": [
      "[7 2 1 ... 4 5 6]\n",
      "0.9702\n"
     ]
    }
   ],
   "source": [
    "#predict labels\n",
    "predict=rf.predict(test_dataset)\n",
    "print (predict)\n",
    "score = rf.score(test_dataset, test_labels)\n",
    "print(score)"
   ]
  },
  {
   "cell_type": "code",
   "execution_count": 48,
   "metadata": {},
   "outputs": [],
   "source": [
    "#store in file\n",
    "prf=np.eye(10)[predict]\n",
    "prf=prf.astype(int)\n",
    "np.savetxt(\"rf.csv\", prf, fmt='%i', delimiter=\",\")"
   ]
  }
 ],
 "metadata": {
  "kernelspec": {
   "display_name": "Python 3",
   "language": "python",
   "name": "python3"
  },
  "language_info": {
   "codemirror_mode": {
    "name": "ipython",
    "version": 3
   },
   "file_extension": ".py",
   "mimetype": "text/x-python",
   "name": "python",
   "nbconvert_exporter": "python",
   "pygments_lexer": "ipython3",
   "version": "3.5.2"
  }
 },
 "nbformat": 4,
 "nbformat_minor": 2
}
